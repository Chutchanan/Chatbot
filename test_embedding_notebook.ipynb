{
 "cells": [
  {
   "cell_type": "markdown",
   "metadata": {},
   "source": [
    "# Embedding Service Testing Notebook\n",
    "This notebook tests the document embedding and vector database functionality."
   ]
  },
  {
   "cell_type": "code",
   "execution_count": 1,
   "metadata": {},
   "outputs": [
    {
     "name": "stdout",
     "output_type": "stream",
     "text": [
      "Current working directory: c:\\Users\\Chutchanan.Ma\\Desktop\\Project\\Chatbot\n",
      "Python path includes: c:\\Users\\Chutchanan.Ma\\Desktop\\Project\\Chatbot\n"
     ]
    }
   ],
   "source": [
    "# Setup and imports\n",
    "import os\n",
    "import sys\n",
    "\n",
    "# Add current directory to path\n",
    "current_dir = os.getcwd()\n",
    "sys.path.insert(0, current_dir)\n",
    "\n",
    "print(f\"Current working directory: {current_dir}\")\n",
    "print(f\"Python path includes: {current_dir}\")"
   ]
  },
  {
   "cell_type": "code",
   "execution_count": 2,
   "metadata": {},
   "outputs": [
    {
     "name": "stdout",
     "output_type": "stream",
     "text": [
      "✅ langchain is installed\n",
      "✅ chromadb is installed\n",
      "✅ openai is installed\n",
      "✅ tiktoken is installed\n"
     ]
    }
   ],
   "source": [
    "# Check required packages\n",
    "required_packages = ['langchain', 'chromadb', 'openai', 'tiktoken']\n",
    "\n",
    "for package in required_packages:\n",
    "    try:\n",
    "        __import__(package)\n",
    "        print(f\"✅ {package} is installed\")\n",
    "    except ImportError:\n",
    "        print(f\"❌ {package} is NOT installed\")\n",
    "        print(f\"   Install with: pip install {package}\")"
   ]
  },
  {
   "cell_type": "code",
   "execution_count": 3,
   "metadata": {},
   "outputs": [
    {
     "name": "stdout",
     "output_type": "stream",
     "text": [
      "✅ Config loaded successfully\n",
      "✅ OpenAI API key is set\n",
      "📁 Chroma directory: ./chroma_db\n",
      "📚 Collection name: company_documents\n"
     ]
    }
   ],
   "source": [
    "# Test config and environment\n",
    "try:\n",
    "    import config\n",
    "    print(\"✅ Config loaded successfully\")\n",
    "    \n",
    "    # Check OpenAI API key\n",
    "    if config.OPENAI_API_KEY and config.OPENAI_API_KEY != \"your-api-key-here\":\n",
    "        print(\"✅ OpenAI API key is set\")\n",
    "    else:\n",
    "        print(\"❌ OpenAI API key is not set properly\")\n",
    "        print(\"   Please update your .env file or config.py\")\n",
    "    \n",
    "    print(f\"📁 Chroma directory: {config.CHROMA_PERSIST_DIRECTORY}\")\n",
    "    print(f\"📚 Collection name: {config.COLLECTION_NAME}\")\n",
    "    \n",
    "except Exception as e:\n",
    "    print(f\"❌ Error loading config: {e}\")"
   ]
  },
  {
   "cell_type": "code",
   "execution_count": 4,
   "metadata": {},
   "outputs": [
    {
     "name": "stdout",
     "output_type": "stream",
     "text": [
      "✅ Created: data/company_docs\\company_overview.txt\n",
      "✅ Created: data/company_docs\\company_policy.txt\n",
      "✅ Created: data/company_docs\\technical_specs.txt\n",
      "\n",
      "📁 Files in data/company_docs:\n",
      "   - BluebikVulcan_website.pdf\n",
      "   - company_overview.txt\n",
      "   - company_policy.txt\n",
      "   - technical_specs.txt\n"
     ]
    }
   ],
   "source": [
    "# Create test documents\n",
    "import os\n",
    "\n",
    "# Create data directory\n",
    "data_dir = \"data/company_docs\"\n",
    "os.makedirs(data_dir, exist_ok=True)\n",
    "\n",
    "# Create test documents\n",
    "test_docs = {\n",
    "    \"company_overview.txt\": \"\"\"\n",
    "Our company is a leading provider of AI chatbot solutions.\n",
    "We specialize in natural language processing and customer support automation.\n",
    "Founded in 2020, we have helped over 100 companies improve their customer service.\n",
    "Our team consists of AI engineers, data scientists, and customer success specialists.\n",
    "\"\"\",\n",
    "    \"company_policy.txt\": \"\"\"\n",
    "Company Policy Guidelines:\n",
    "\n",
    "1. Security: All employees must follow security protocols and use VPN when working remotely.\n",
    "2. Remote Work: We offer flexible work arrangements including remote and hybrid options.\n",
    "3. Benefits: Full health insurance, dental coverage, and 401k matching.\n",
    "4. Time Off: 20 days PTO plus national holidays.\n",
    "5. Professional Development: $2000 annual budget for training and conferences.\n",
    "\"\"\",\n",
    "    \"technical_specs.txt\": \"\"\"\n",
    "Technical Specifications:\n",
    "\n",
    "Our chatbot platform supports:\n",
    "- Multiple programming languages (Python, JavaScript, Java)\n",
    "- Integration with popular CRM systems (Salesforce, HubSpot)\n",
    "- Real-time analytics and reporting\n",
    "- Multi-language support (English, Spanish, French, German)\n",
    "- API endpoints for custom integrations\n",
    "- Enterprise-grade security with SOC 2 compliance\n",
    "\"\"\"\n",
    "}\n",
    "\n",
    "for filename, content in test_docs.items():\n",
    "    filepath = os.path.join(data_dir, filename)\n",
    "    with open(filepath, 'w', encoding='utf-8') as f:\n",
    "        f.write(content.strip())\n",
    "    print(f\"✅ Created: {filepath}\")\n",
    "\n",
    "print(f\"\\n📁 Files in {data_dir}:\")\n",
    "for file in os.listdir(data_dir):\n",
    "    print(f\"   - {file}\")"
   ]
  },
  {
   "cell_type": "code",
   "execution_count": 8,
   "metadata": {},
   "outputs": [
    {
     "name": "stdout",
     "output_type": "stream",
     "text": [
      "✅ EmbeddingService imported successfully\n"
     ]
    }
   ],
   "source": [
    "# Test embedding service import\n",
    "try:\n",
    "    from services.embedding_service import EmbeddingService\n",
    "    print(\"✅ EmbeddingService imported successfully\")\n",
    "except Exception as e:\n",
    "    print(f\"❌ Error importing EmbeddingService: {e}\")\n",
    "    print(\"\\nLet's try a simpler approach...\")"
   ]
  },
  {
   "cell_type": "code",
   "execution_count": null,
   "metadata": {},
   "outputs": [],
   "source": [
    "# Simple embedding test (if import failed above)\n",
    "# This cell provides a basic embedding test without the full service\n",
    "\n",
    "try:\n",
    "    from langchain.embeddings import OpenAIEmbeddings\n",
    "    from langchain.text_splitter import RecursiveCharacterTextSplitter\n",
    "    from langchain.document_loaders import TextLoader\n",
    "    import config\n",
    "    \n",
    "    print(\"🧪 Testing basic embedding functionality...\")\n",
    "    \n",
    "    # Initialize embeddings\n",
    "    embeddings = OpenAIEmbeddings(openai_api_key=config.OPENAI_API_KEY)\n",
    "    print(\"✅ OpenAI embeddings initialized\")\n",
    "    \n",
    "    # Test text splitter\n",
    "    text_splitter = RecursiveCharacterTextSplitter(\n",
    "        chunk_size=1000,\n",
    "        chunk_overlap=200\n",
    "    )\n",
    "    print(\"✅ Text splitter initialized\")\n",
    "    \n",
    "    # Test loading a document\n",
    "    test_file = \"data/company_docs/company_overview.txt\"\n",
    "    if os.path.exists(test_file):\n",
    "        loader = TextLoader(test_file)\n",
    "        documents = loader.load()\n",
    "        print(f\"✅ Loaded document: {len(documents)} doc(s)\")\n",
    "        print(f\"📄 Content preview: {documents[0].page_content[:100]}...\")\n",
    "        \n",
    "        # Test splitting\n",
    "        texts = text_splitter.split_documents(documents)\n",
    "        print(f\"✅ Split into {len(texts)} chunks\")\n",
    "    else:\n",
    "        print(f\"❌ Test file not found: {test_file}\")\n",
    "    \n",
    "except Exception as e:\n",
    "    print(f\"❌ Error in basic embedding test: {e}\")"
   ]
  },
  {
   "cell_type": "code",
   "execution_count": null,
   "metadata": {},
   "outputs": [],
   "source": [
    "# Test ChromaDB initialization\n",
    "try:\n",
    "    import chromadb\n",
    "    from langchain.vectorstores import Chroma\n",
    "    from langchain.embeddings import OpenAIEmbeddings\n",
    "    import config\n",
    "    \n",
    "    print(\"🧪 Testing ChromaDB...\")\n",
    "    \n",
    "    # Initialize embeddings\n",
    "    embeddings = OpenAIEmbeddings(openai_api_key=config.OPENAI_API_KEY)\n",
    "    \n",
    "    # Initialize Chroma\n",
    "    vectorstore = Chroma(\n",
    "        collection_name=config.COLLECTION_NAME,\n",
    "        embedding_function=embeddings,\n",
    "        persist_directory=config.CHROMA_PERSIST_DIRECTORY\n",
    "    )\n",
    "    \n",
    "    print(\"✅ ChromaDB initialized successfully\")\n",
    "    \n",
    "    # Test adding a simple document\n",
    "    test_texts = [\"This is a test document for our company chatbot system.\"]\n",
    "    test_metadatas = [{\"source\": \"test\", \"type\": \"example\"}]\n",
    "    \n",
    "    vectorstore.add_texts(test_texts, test_metadatas)\n",
    "    print(\"✅ Test document added to vector store\")\n",
    "    \n",
    "    # Test search\n",
    "    results = vectorstore.similarity_search(\"chatbot\", k=1)\n",
    "    print(f\"✅ Search test successful: found {len(results)} result(s)\")\n",
    "    \n",
    "    if results:\n",
    "        print(f\"📄 Result: {results[0].page_content}\")\n",
    "    \n",
    "except Exception as e:\n",
    "    print(f\"❌ Error testing ChromaDB: {e}\")\n",
    "    print(\"This might be due to missing OpenAI API key or network issues.\")"
   ]
  },
  {
   "cell_type": "code",
   "execution_count": null,
   "metadata": {},
   "outputs": [],
   "source": [
    "# Full embedding service test (if everything above worked)\n",
    "try:\n",
    "    # Re-attempt importing the full service\n",
    "    from services.embedding_service import EmbeddingService\n",
    "    \n",
    "    print(\"🚀 Testing full EmbeddingService...\")\n",
    "    \n",
    "    # Initialize service\n",
    "    embedding_service = EmbeddingService()\n",
    "    print(\"✅ EmbeddingService initialized\")\n",
    "    \n",
    "    # Process documents\n",
    "    print(\"📚 Processing company documents...\")\n",
    "    embedding_service.process_and_store_documents(\"./data/company_docs\")\n",
    "    print(\"✅ Documents processed and stored\")\n",
    "    \n",
    "    # Test search\n",
    "    test_queries = [\n",
    "        \"What is our company policy?\",\n",
    "        \"Tell me about remote work\",\n",
    "        \"What programming languages do we support?\"\n",
    "    ]\n",
    "    \n",
    "    for query in test_queries:\n",
    "        print(f\"\\n🔍 Testing query: '{query}'\")\n",
    "        results = embedding_service.search_similar_documents(query, k=2)\n",
    "        \n",
    "        for i, result in enumerate(results, 1):\n",
    "            print(f\"   Result {i}: {result.page_content[:100]}...\")\n",
    "    \n",
    "    # Get collection info\n",
    "    info = embedding_service.get_collection_info()\n",
    "    print(f\"\\n📊 Collection info: {info}\")\n",
    "    \n",
    "except Exception as e:\n",
    "    print(f\"❌ Error testing full EmbeddingService: {e}\")\n",
    "    print(\"This is likely due to OpenAI API key issues or missing dependencies.\")"
   ]
  },
  {
   "cell_type": "code",
   "execution_count": null,
   "metadata": {},
   "outputs": [],
   "source": [
    "# Summary and next steps\n",
    "print(\"📋 EMBEDDING SERVICE TEST SUMMARY\")\n",
    "print(\"=\" * 40)\n",
    "print(\"\")\n",
    "print(\"If all tests above passed:\")\n",
    "print(\"✅ Your embedding service is ready!\")\n",
    "print(\"✅ You can proceed to test the chatbot service\")\n",
    "print(\"\")\n",
    "print(\"If some tests failed:\")\n",
    "print(\"❌ Check your OpenAI API key in .env file\")\n",
    "print(\"❌ Make sure all packages are installed: pip install -r requirements.txt\")\n",
    "print(\"❌ Check internet connection for OpenAI API calls\")\n",
    "print(\"\")\n",
    "print(\"Next: Run the chatbot service test notebook\")"
   ]
  }
 ],
 "metadata": {
  "kernelspec": {
   "display_name": "venv",
   "language": "python",
   "name": "python3"
  },
  "language_info": {
   "codemirror_mode": {
    "name": "ipython",
    "version": 3
   },
   "file_extension": ".py",
   "mimetype": "text/x-python",
   "name": "python",
   "nbconvert_exporter": "python",
   "pygments_lexer": "ipython3",
   "version": "3.13.5"
  }
 },
 "nbformat": 4,
 "nbformat_minor": 5
}
