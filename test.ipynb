{
 "cells": [
  {
   "cell_type": "code",
   "execution_count": 1,
   "id": "e11d9c77",
   "metadata": {},
   "outputs": [
    {
     "name": "stderr",
     "output_type": "stream",
     "text": [
      "INFO:services.embedding_service:Initializing with chunk_size=5000, chunk_overlap=500\n",
      "c:\\Users\\Chutchanan.Ma\\Desktop\\Project\\Chatbot\\services\\embedding_service.py:73: LangChainDeprecationWarning: The class `OpenAIEmbeddings` was deprecated in LangChain 0.0.9 and will be removed in 1.0. An updated version of the class exists in the :class:`~langchain-openai package and should be used instead. To use it run `pip install -U :class:`~langchain-openai` and import as `from :class:`~langchain_openai import OpenAIEmbeddings``.\n",
      "  self.embeddings = OpenAIEmbeddings(\n",
      "c:\\Users\\Chutchanan.Ma\\Desktop\\Project\\Chatbot\\services\\embedding_service.py:108: LangChainDeprecationWarning: The class `Chroma` was deprecated in LangChain 0.2.9 and will be removed in 1.0. An updated version of the class exists in the :class:`~langchain-chroma package and should be used instead. To use it run `pip install -U :class:`~langchain-chroma` and import as `from :class:`~langchain_chroma import Chroma``.\n",
      "  self.vectorstore = Chroma(\n",
      "INFO:chromadb.telemetry.product.posthog:Anonymized telemetry enabled. See                     https://docs.trychroma.com/telemetry for more information.\n",
      "INFO:services.embedding_service:Vector store initialized successfully\n",
      "INFO:services.embedding_service:Clearing existing collection for reprocessing...\n",
      "INFO:services.embedding_service:Vector store initialized successfully\n",
      "INFO:services.embedding_service:Processing file: data\\company_docs\\BluebikVulcan_website.pdf\n",
      "INFO:services.embedding_service:Loaded 121 document(s) from data\\company_docs\\BluebikVulcan_website.pdf\n",
      "INFO:services.embedding_service:Splitting 121 documents into chunks (size=5000, overlap=500)\n",
      "INFO:services.embedding_service:Storing 119 chunks in vector database\n",
      "INFO:httpx:HTTP Request: POST https://api.openai.com/v1/embeddings \"HTTP/1.1 200 OK\"\n",
      "INFO:services.embedding_service:Stored batch 1/12\n",
      "INFO:httpx:HTTP Request: POST https://api.openai.com/v1/embeddings \"HTTP/1.1 200 OK\"\n",
      "INFO:services.embedding_service:Stored batch 2/12\n",
      "INFO:httpx:HTTP Request: POST https://api.openai.com/v1/embeddings \"HTTP/1.1 200 OK\"\n",
      "INFO:services.embedding_service:Stored batch 3/12\n",
      "INFO:httpx:HTTP Request: POST https://api.openai.com/v1/embeddings \"HTTP/1.1 200 OK\"\n",
      "INFO:services.embedding_service:Stored batch 4/12\n",
      "INFO:httpx:HTTP Request: POST https://api.openai.com/v1/embeddings \"HTTP/1.1 200 OK\"\n",
      "INFO:services.embedding_service:Stored batch 5/12\n",
      "INFO:httpx:HTTP Request: POST https://api.openai.com/v1/embeddings \"HTTP/1.1 200 OK\"\n",
      "INFO:services.embedding_service:Stored batch 6/12\n",
      "INFO:httpx:HTTP Request: POST https://api.openai.com/v1/embeddings \"HTTP/1.1 200 OK\"\n",
      "INFO:services.embedding_service:Stored batch 7/12\n",
      "INFO:httpx:HTTP Request: POST https://api.openai.com/v1/embeddings \"HTTP/1.1 200 OK\"\n",
      "INFO:services.embedding_service:Stored batch 8/12\n",
      "INFO:httpx:HTTP Request: POST https://api.openai.com/v1/embeddings \"HTTP/1.1 200 OK\"\n",
      "INFO:services.embedding_service:Stored batch 9/12\n",
      "INFO:httpx:HTTP Request: POST https://api.openai.com/v1/embeddings \"HTTP/1.1 200 OK\"\n",
      "INFO:services.embedding_service:Stored batch 10/12\n",
      "INFO:httpx:HTTP Request: POST https://api.openai.com/v1/embeddings \"HTTP/1.1 200 OK\"\n",
      "INFO:services.embedding_service:Stored batch 11/12\n",
      "INFO:httpx:HTTP Request: POST https://api.openai.com/v1/embeddings \"HTTP/1.1 200 OK\"\n",
      "INFO:services.embedding_service:Stored batch 12/12\n",
      "c:\\Users\\Chutchanan.Ma\\Desktop\\Project\\Chatbot\\services\\embedding_service.py:227: LangChainDeprecationWarning: Since Chroma 0.4.x the manual persistence method is no longer supported as docs are automatically persisted.\n",
      "  self.vectorstore.persist()\n",
      "INFO:services.embedding_service:Successfully processed and stored 121 documents from 1 files\n",
      "INFO:services.embedding_service:Files processed: BluebikVulcan_website.pdf\n",
      "INFO:services.embedding_service:Total chunks created: 119\n"
     ]
    }
   ],
   "source": [
    "# Uses CHUNK_SIZE=5000, CHUNK_OVERLAP=500 from config\n",
    "from services.embedding_service import EmbeddingService\n",
    "EmbeddingService().process_and_store_documents(\"./data/company_docs\", reprocess=True)"
   ]
  }
 ],
 "metadata": {
  "kernelspec": {
   "display_name": "venv",
   "language": "python",
   "name": "python3"
  },
  "language_info": {
   "codemirror_mode": {
    "name": "ipython",
    "version": 3
   },
   "file_extension": ".py",
   "mimetype": "text/x-python",
   "name": "python",
   "nbconvert_exporter": "python",
   "pygments_lexer": "ipython3",
   "version": "3.13.5"
  }
 },
 "nbformat": 4,
 "nbformat_minor": 5
}
