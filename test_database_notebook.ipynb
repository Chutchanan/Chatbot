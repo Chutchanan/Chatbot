{
 "cells": [
  {
   "cell_type": "markdown",
   "metadata": {},
   "source": [
    "# Database Testing Notebook\n",
    "This notebook tests the database setup and basic operations."
   ]
  },
  {
   "cell_type": "code",
   "execution_count": 1,
   "metadata": {},
   "outputs": [
    {
     "name": "stdout",
     "output_type": "stream",
     "text": [
      "✅ Database file exists: chatbot.db\n",
      "📊 File size: 32768 bytes\n"
     ]
    }
   ],
   "source": [
    "# Test 1: Check if database file exists\n",
    "import os\n",
    "import sqlite3\n",
    "\n",
    "db_path = \"chatbot.db\"\n",
    "\n",
    "if os.path.exists(db_path):\n",
    "    print(f\"✅ Database file exists: {db_path}\")\n",
    "    print(f\"📊 File size: {os.path.getsize(db_path)} bytes\")\n",
    "else:\n",
    "    print(f\"❌ Database file not found: {db_path}\")"
   ]
  },
  {
   "cell_type": "code",
   "execution_count": 2,
   "metadata": {},
   "outputs": [
    {
     "name": "stdout",
     "output_type": "stream",
     "text": [
      "📋 Tables found: ['users', 'chat_logs']\n",
      "\n",
      "🔍 Schema for users:\n",
      "   - id (INTEGER)\n",
      "   - username (VARCHAR)\n",
      "   - email (VARCHAR)\n",
      "   - token_limit (INTEGER)\n",
      "   - tokens_used (INTEGER)\n",
      "   - is_active (BOOLEAN)\n",
      "   - created_at (DATETIME)\n",
      "\n",
      "🔍 Schema for chat_logs:\n",
      "   - id (INTEGER)\n",
      "   - user_id (INTEGER)\n",
      "   - query (TEXT)\n",
      "   - response (TEXT)\n",
      "   - tokens_used (INTEGER)\n",
      "   - timestamp (DATETIME)\n"
     ]
    }
   ],
   "source": [
    "# Test 2: Check database tables\n",
    "conn = sqlite3.connect(db_path)\n",
    "cursor = conn.cursor()\n",
    "\n",
    "# Get all tables\n",
    "cursor.execute(\"SELECT name FROM sqlite_master WHERE type='table';\")\n",
    "tables = cursor.fetchall()\n",
    "\n",
    "print(f\"📋 Tables found: {[table[0] for table in tables]}\")\n",
    "\n",
    "# Check table schemas\n",
    "for table in tables:\n",
    "    table_name = table[0]\n",
    "    print(f\"\\n🔍 Schema for {table_name}:\")\n",
    "    cursor.execute(f\"PRAGMA table_info({table_name});\")\n",
    "    columns = cursor.fetchall()\n",
    "    for col in columns:\n",
    "        print(f\"   - {col[1]} ({col[2]})\")\n",
    "\n",
    "conn.close()"
   ]
  },
  {
   "cell_type": "code",
   "execution_count": 3,
   "metadata": {},
   "outputs": [
    {
     "name": "stdout",
     "output_type": "stream",
     "text": [
      "👥 Total users in database: 3\n",
      "\n",
      "📝 User details:\n",
      "   - user1 (user1@company.com)\n",
      "     Token limit: 1000, Used: 0, Status: Active\n",
      "   - user2 (user2@company.com)\n",
      "     Token limit: 1000, Used: 0, Status: Active\n",
      "   - demo (demo@company.com)\n",
      "     Token limit: 500, Used: 0, Status: Active\n"
     ]
    }
   ],
   "source": [
    "# Test 3: Check users data\n",
    "conn = sqlite3.connect(db_path)\n",
    "cursor = conn.cursor()\n",
    "\n",
    "try:\n",
    "    cursor.execute(\"SELECT COUNT(*) FROM users;\")\n",
    "    user_count = cursor.fetchone()[0]\n",
    "    print(f\"👥 Total users in database: {user_count}\")\n",
    "    \n",
    "    cursor.execute(\"SELECT username, email, token_limit, tokens_used, is_active FROM users;\")\n",
    "    users = cursor.fetchall()\n",
    "    \n",
    "    print(\"\\n📝 User details:\")\n",
    "    for user in users:\n",
    "        status = \"Active\" if user[4] else \"Inactive\"\n",
    "        print(f\"   - {user[0]} ({user[1]})\")\n",
    "        print(f\"     Token limit: {user[2]}, Used: {user[3]}, Status: {status}\")\n",
    "        \n",
    "except Exception as e:\n",
    "    print(f\"❌ Error checking users: {e}\")\n",
    "\n",
    "conn.close()"
   ]
  },
  {
   "cell_type": "code",
   "execution_count": 4,
   "metadata": {},
   "outputs": [
    {
     "name": "stdout",
     "output_type": "stream",
     "text": [
      "✅ Test chat log added successfully!\n",
      "💬 Total chat logs: 1\n"
     ]
    }
   ],
   "source": [
    "# Test 4: Test adding a chat log (simulate usage)\n",
    "import sys\n",
    "import os\n",
    "\n",
    "# Add current directory to path\n",
    "current_dir = os.getcwd()\n",
    "sys.path.insert(0, current_dir)\n",
    "\n",
    "from datetime import datetime\n",
    "\n",
    "conn = sqlite3.connect(db_path)\n",
    "cursor = conn.cursor()\n",
    "\n",
    "try:\n",
    "    # Add a test chat log\n",
    "    test_log = {\n",
    "        'user_id': 1,  # user1\n",
    "        'query': 'What is our company policy?',\n",
    "        'response': 'Our company policy covers various aspects including security guidelines and remote work options.',\n",
    "        'tokens_used': 25,\n",
    "        'timestamp': datetime.now().isoformat()\n",
    "    }\n",
    "    \n",
    "    cursor.execute(\"\"\"\n",
    "        INSERT INTO chat_logs (user_id, query, response, tokens_used, timestamp)\n",
    "        VALUES (?, ?, ?, ?, ?)\n",
    "    \"\"\", (test_log['user_id'], test_log['query'], test_log['response'], \n",
    "          test_log['tokens_used'], test_log['timestamp']))\n",
    "    \n",
    "    conn.commit()\n",
    "    print(\"✅ Test chat log added successfully!\")\n",
    "    \n",
    "    # Check chat logs\n",
    "    cursor.execute(\"SELECT COUNT(*) FROM chat_logs;\")\n",
    "    log_count = cursor.fetchone()[0]\n",
    "    print(f\"💬 Total chat logs: {log_count}\")\n",
    "    \n",
    "except Exception as e:\n",
    "    print(f\"❌ Error adding chat log: {e}\")\n",
    "\n",
    "conn.close()"
   ]
  },
  {
   "cell_type": "code",
   "execution_count": 5,
   "metadata": {},
   "outputs": [
    {
     "name": "stdout",
     "output_type": "stream",
     "text": [
      "✅ Config file loaded successfully!\n",
      "📊 Database URL: sqlite:///./chatbot.db\n",
      "🔑 OpenAI API Key: Set\n",
      "👤 Admin Username: admin_vulcan\n",
      "🎯 Default Token Limit: 1000\n"
     ]
    }
   ],
   "source": [
    "# Test 5: Test config file\n",
    "try:\n",
    "    import config\n",
    "    print(\"✅ Config file loaded successfully!\")\n",
    "    print(f\"📊 Database URL: {config.DATABASE_URL}\")\n",
    "    print(f\"🔑 OpenAI API Key: {'Set' if config.OPENAI_API_KEY != 'your-api-key-here' else 'Not set'}\")\n",
    "    print(f\"👤 Admin Username: {config.ADMIN_USERNAME}\")\n",
    "    print(f\"🎯 Default Token Limit: {config.DEFAULT_TOKEN_LIMIT}\")\n",
    "except Exception as e:\n",
    "    print(f\"❌ Error loading config: {e}\")\n",
    "    print(\"Please make sure config.py exists and is properly configured.\")"
   ]
  }
 ],
 "metadata": {
  "kernelspec": {
   "display_name": "venv",
   "language": "python",
   "name": "python3"
  },
  "language_info": {
   "codemirror_mode": {
    "name": "ipython",
    "version": 3
   },
   "file_extension": ".py",
   "mimetype": "text/x-python",
   "name": "python",
   "nbconvert_exporter": "python",
   "pygments_lexer": "ipython3",
   "version": "3.13.5"
  }
 },
 "nbformat": 4,
 "nbformat_minor": 5
}
